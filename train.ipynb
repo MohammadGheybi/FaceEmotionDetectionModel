{
  "cells": [
    {
      "cell_type": "code",
      "execution_count": null,
      "metadata": {
        "colab": {
          "background_save": true
        },
        "id": "FyplXnIMcn_f"
      },
      "outputs": [],
      "source": [
        "import kagglehub\n",
        "import tensorflow as tf\n",
        "from tensorflow.keras.models import Sequential\n",
        "from tensorflow.keras.layers import Conv2D, MaxPooling2D, Dense, Dropout, Flatten, BatchNormalization\n",
        "from tensorflow.keras.optimizers import Adam\n",
        "from tensorflow.keras.callbacks import EarlyStopping, ReduceLROnPlateau, ModelCheckpoint\n",
        "from tensorflow.keras.preprocessing.image import ImageDataGenerator\n",
        "import matplotlib.pyplot as plt\n",
        "import numpy as np\n",
        "from sklearn.metrics import confusion_matrix, classification_report\n",
        "import seaborn as sns\n",
        "import os"
      ]
    },
    {
      "cell_type": "code",
      "execution_count": null,
      "metadata": {
        "colab": {
          "base_uri": "https://localhost:8080/"
        },
        "id": "A_eFH69pc3g8",
        "outputId": "6829ea05-cfd3-4ebe-d835-769aa7153aca"
      },
      "outputs": [],
      "source": [
        "path = kagglehub.dataset_download(\"shuvoalok/raf-db-dataset\")\n",
        "print(\"Path to dataset files:\", path)"
      ]
    },
    {
      "cell_type": "code",
      "execution_count": null,
      "metadata": {},
      "outputs": [],
      "source": [
        "# Set paths to train and test directories\n",
        "train_dir = os.path.join(path, \"DATASET\", \"train\")\n",
        "test_dir = os.path.join(path, \"DATASET\", \"test\")\n",
        "\n",
        "# Simple preprocessing (just rescale, no augmentation)\n",
        "train_datagen = ImageDataGenerator(rescale=1./255)\n",
        "test_datagen = ImageDataGenerator(rescale=1./255)"
      ]
    },
    {
      "cell_type": "code",
      "execution_count": null,
      "metadata": {},
      "outputs": [],
      "source": [
        "# Load train and test data\n",
        "train_data = train_datagen.flow_from_directory(\n",
        "    train_dir,\n",
        "    target_size=(100, 100),  # RAF-DB images are 100x100\n",
        "    color_mode=\"rgb\",       # RAF-DB uses color images\n",
        "    batch_size=32,\n",
        "    class_mode=\"categorical\"\n",
        ")\n",
        "\n",
        "test_data = test_datagen.flow_from_directory(\n",
        "    test_dir,\n",
        "    target_size=(100, 100),\n",
        "    color_mode=\"rgb\",\n",
        "    batch_size=32,\n",
        "    class_mode=\"categorical\"\n",
        ")"
      ]
    },
    {
      "cell_type": "code",
      "execution_count": null,
      "metadata": {},
      "outputs": [],
      "source": [
        "# Print example images from the training set\n",
        "images, labels = next(train_data)\n",
        "emotion_labels = [\"Surprise\", \"Fear\", \"Disgust\", \"Happiness\", \"Sadness\", \"Anger\", \"Neutral\"]\n",
        "fig, axes = plt.subplots(1, 5, figsize=(15, 3))  # Display 5 examples\n",
        "for i, ax in enumerate(axes):\n",
        "    ax.imshow(images[i]) \n",
        "    true_label = emotion_labels[np.argmax(labels[i])]\n",
        "    ax.set_title(f\"Label: {true_label}\")\n",
        "    ax.axis(\"off\")\n",
        "plt.suptitle(\"Example Images from RAF-DB Training Set\")\n",
        "plt.show()"
      ]
    },
    {
      "cell_type": "code",
      "execution_count": 3,
      "metadata": {
        "colab": {
          "base_uri": "https://localhost:8080/"
        },
        "id": "qmwADOfJ3p1D",
        "outputId": "ee6e21d3-e6ea-43e2-a96e-b1809d75e43e"
      },
      "outputs": [],
      "source": [
        "# Define the model \n",
        "model = Sequential([\n",
        "    Conv2D(64, (3, 3), padding='same', activation='relu', input_shape=(100, 100, 3)), \n",
        "    BatchNormalization(),\n",
        "    Conv2D(64, (3, 3), padding='same', activation='relu'),\n",
        "    BatchNormalization(),\n",
        "    MaxPooling2D(2, 2),\n",
        "    Dropout(0.2),\n",
        "\n",
        "    Conv2D(128, (3, 3), padding='same', activation='relu'),\n",
        "    BatchNormalization(),\n",
        "    Conv2D(128, (3, 3), padding='same', activation='relu'),\n",
        "    BatchNormalization(),\n",
        "    MaxPooling2D(2, 2),\n",
        "    Dropout(0.2),\n",
        "\n",
        "    Conv2D(256, (3, 3), padding='same', activation='relu'),\n",
        "    BatchNormalization(),\n",
        "    Conv2D(256, (3, 3), padding='same', activation='relu'),\n",
        "    BatchNormalization(),\n",
        "    Conv2D(256, (3, 3), padding='same', activation='relu'),\n",
        "    BatchNormalization(),\n",
        "    MaxPooling2D(2, 2),\n",
        "    Dropout(0.2),\n",
        "\n",
        "    Flatten(),\n",
        "    Dense(1024, activation='relu'),\n",
        "    BatchNormalization(),\n",
        "    Dropout(0.4),\n",
        "    Dense(512, activation='relu'),\n",
        "    BatchNormalization(),\n",
        "    Dropout(0.4),\n",
        "    Dense(7, activation='softmax')  \n",
        "])"
      ]
    },
    {
      "cell_type": "code",
      "execution_count": null,
      "metadata": {
        "id": "u1z5vKSx389p"
      },
      "outputs": [],
      "source": [
        "# Use a learning rate scheduler\n",
        "reduce_lr = ReduceLROnPlateau(\n",
        "    monitor='val_loss',\n",
        "    factor=0.2,\n",
        "    patience=3,\n",
        "    min_lr=0.00001,\n",
        "    verbose=1\n",
        ")\n",
        "\n",
        "# Early stopping to prevent overfitting\n",
        "early_stop = EarlyStopping(\n",
        "    monitor='val_accuracy',\n",
        "    patience=10,\n",
        "    restore_best_weights=True,\n",
        "    verbose=1\n",
        ")"
      ]
    },
    {
      "cell_type": "code",
      "execution_count": null,
      "metadata": {
        "colab": {
          "base_uri": "https://localhost:8080/"
        },
        "id": "KH-Zwgiw4AN5",
        "outputId": "ac0a31da-7ebe-4cb6-cb99-d46a4ce24cfb"
      },
      "outputs": [],
      "source": [
        "# Compile the model\n",
        "model.compile(\n",
        "    optimizer=AdamW(learning_rate=0.001, weight_decay=0.0001),\n",
        "    loss='categorical_crossentropy',\n",
        "    metrics=['accuracy']\n",
        ")\n",
        "\n",
        "# Train the model\n",
        "history = model.fit(\n",
        "    train_data,\n",
        "    validation_data=test_data,\n",
        "    epochs=40,\n",
        "    callbacks=[reduce_lr, early_stop],\n",
        ")"
      ]
    },
    {
      "cell_type": "code",
      "execution_count": null,
      "metadata": {
        "colab": {
          "base_uri": "https://localhost:8080/"
        },
        "id": "1SB6Rc6d6p9C",
        "outputId": "6274db68-7ab6-4d57-dd50-37d9d0a68e66"
      },
      "outputs": [],
      "source": [
        "# Evaluate model on test data\n",
        "loss, acc = model.evaluate(test_data)\n",
        "print(f\"Test Accuracy: {acc * 100:.2f}%\")\n",
        "print(f\"Test Loss: {loss:.4f}\")\n"
      ]
    },
    {
      "cell_type": "code",
      "execution_count": null,
      "metadata": {},
      "outputs": [],
      "source": [
        "# Save the trained model\n",
        "model.save('/content/rafdb_model.h5')\n",
        "print(\"Model saved as 'rafdb_model.h5'\")\n",
        "# Download the model to your local machine\n",
        "from google.colab import files\n",
        "files.download('/content/rafdb_model.h5')"
      ]
    },
    {
      "cell_type": "code",
      "execution_count": null,
      "metadata": {},
      "outputs": [],
      "source": [
        "# Reset and reload test data for accurate evaluation\n",
        "test_data = test_datagen.flow_from_directory(\n",
        "    test_dir,\n",
        "    target_size=(100, 100),\n",
        "    color_mode=\"rgb\",\n",
        "    batch_size=32,\n",
        "    class_mode=\"categorical\",\n",
        "    shuffle=False  # Important: no shuffling for consistent label alignment\n",
        ")\n",
        "y_pred = model.predict(test_data)\n",
        "y_true = test_data.classes\n",
        "print(classification_report(y_true, np.argmax(y_pred, axis=1), target_names=emotion_labels))"
      ]
    },
    {
      "cell_type": "code",
      "execution_count": null,
      "metadata": {
        "colab": {
          "base_uri": "https://localhost:8080/",
          "height": 174
        },
        "id": "cQuXi5wA7L5A",
        "outputId": "04a379aa-5979-4dc9-ae7d-8102eb9db410"
      },
      "outputs": [],
      "source": [
        "images, labels = next(test_data)\n",
        "predictions = model.predict(images)\n",
        "predicted_labels = [emotion_labels[np.argmax(pred)] for pred in predictions]\n",
        "\n",
        "fig, axes = plt.subplots(1, 10, figsize=(15, 6))\n",
        "for i, ax in enumerate(axes):\n",
        "    ax.imshow(images[i])  # RGB images\n",
        "    ax.set_title(f\"Pred: {predicted_labels[i]}\")\n",
        "    ax.axis(\"off\")\n",
        "plt.show()"
      ]
    }
  ],
  "metadata": {
    "accelerator": "GPU",
    "colab": {
      "gpuType": "T4",
      "provenance": []
    },
    "kernelspec": {
      "display_name": "Python 3",
      "name": "python3"
    },
    "language_info": {
      "codemirror_mode": {
        "name": "ipython",
        "version": 3
      },
      "file_extension": ".py",
      "mimetype": "text/x-python",
      "name": "python",
      "nbconvert_exporter": "python",
      "pygments_lexer": "ipython3",
      "version": "3.9.0"
    }
  },
  "nbformat": 4,
  "nbformat_minor": 0
}
